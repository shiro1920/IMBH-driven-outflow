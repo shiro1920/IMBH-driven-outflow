{
 "cells": [
  {
   "cell_type": "markdown",
   "metadata": {
    "ExecuteTime": {
     "end_time": "2021-08-12T08:55:51.260331Z",
     "start_time": "2021-08-12T08:55:51.144150Z"
    }
   },
   "source": [
    "# package & data"
   ]
  },
  {
   "cell_type": "code",
   "execution_count": 1,
   "metadata": {
    "ExecuteTime": {
     "end_time": "2021-08-20T04:16:56.731109Z",
     "start_time": "2021-08-20T04:16:56.341243Z"
    }
   },
   "outputs": [],
   "source": [
    "import astropy.units as u\n",
    "import numpy as np\n",
    "from astropy.io import fits \n",
    "\n",
    "import matplotlib.pyplot as plt\n",
    "from matplotlib.colors import ListedColormap\n",
    "import matplotlib.patches as patches4\n",
    "from matplotlib import colors\n",
    "import matplotlib.patches as mpatches\n",
    "\n",
    "import scipy.constants as C\n",
    "import scipy.interpolate as spi\n",
    "\n",
    "from itertools import product\n",
    "\n",
    "import warnings\n",
    "from scipy.signal import find_peaks\n",
    "\n",
    "from scipy import integrate\n",
    "from scipy.optimize import curve_fit\n",
    "\n",
    "import random"
   ]
  },
  {
   "cell_type": "code",
   "execution_count": 126,
   "metadata": {
    "ExecuteTime": {
     "end_time": "2021-08-24T09:07:42.039961Z",
     "start_time": "2021-08-24T09:07:42.006175Z"
    }
   },
   "outputs": [],
   "source": [
    "?curve_fit"
   ]
  },
  {
   "cell_type": "code",
   "execution_count": 2,
   "metadata": {
    "ExecuteTime": {
     "end_time": "2021-08-20T04:16:59.043756Z",
     "start_time": "2021-08-20T04:16:58.932284Z"
    },
    "code_folding": []
   },
   "outputs": [],
   "source": [
    "### read data\n",
    "\n",
    "sdssj0228 = fits.open(\"data/SDSSJ022849.51-090153.8_DATACUBE_FINAL_2019-10-20T08.23.58.345.fits\")\n",
    "spec_data = sdssj0228[1].data\n",
    "spec_err = sdssj0228[2].data\n",
    "min_wave = sdssj0228[0].header['WAVELMIN']*10\n",
    "max_wave = sdssj0228[0].header['WAVELMAX']*10\n",
    "wave_len = np.linspace(min_wave,max_wave,spec_data.shape[0])\n",
    "wavelength = wave_len/(1+0.072)\n",
    "mask_pp = (wavelength > 4800) & (wavelength < 7409)\n",
    "\n",
    "ppdata = fits.open(\"ppxf/SDSSJ0228/SDSSJ0228_mask_ppxf_fitdata.fits\")\n",
    "pp_galaxy = ppdata[4].data\n",
    "pp_bestfit = ppdata[2].data\n",
    "pp_wave = ppdata[1].data[\"wavelength\"]\n",
    "\n",
    "rebin_data_Ha = fits.open('analyse_data_image/SDSSJ0228/SDSSJ0228_rebin_specHa_10.fits')\n",
    "spec_flux_rebin_Ha = rebin_data_Ha[1].data\n",
    "spec_err_rebin_Ha = rebin_data_Ha[2].data\n",
    "spec_con_rebin_Ha = rebin_data_Ha[3].data\n",
    "spec_flux_Ha = spec_flux_rebin_Ha[:,25,25]\n",
    "spec_err_Ha = spec_err_rebin_Ha[:,25,25]\n",
    "spec_con_Ha = spec_con_rebin_Ha[:,25,25]"
   ]
  },
  {
   "cell_type": "code",
   "execution_count": 129,
   "metadata": {
    "ExecuteTime": {
     "end_time": "2021-08-24T09:20:34.803457Z",
     "start_time": "2021-08-24T09:20:34.797979Z"
    }
   },
   "outputs": [
    {
     "data": {
      "text/plain": [
       "True"
      ]
     },
     "execution_count": 129,
     "metadata": {},
     "output_type": "execute_result"
    }
   ],
   "source": [
    "spec_err_Ha.shape == spec_flux_Ha.shape"
   ]
  },
  {
   "cell_type": "markdown",
   "metadata": {
    "ExecuteTime": {
     "end_time": "2021-08-11T09:18:10.160987Z",
     "start_time": "2021-08-11T09:18:10.152385Z"
    }
   },
   "source": [
    "# function 1 "
   ]
  },
  {
   "cell_type": "code",
   "execution_count": 3,
   "metadata": {
    "ExecuteTime": {
     "end_time": "2021-08-20T04:17:01.482006Z",
     "start_time": "2021-08-20T04:17:01.472196Z"
    },
    "code_folding": [
     1
    ]
   },
   "outputs": [],
   "source": [
    "#### 计算峰值信噪比\n",
    "def peak_SNR(wave,spec_flux,spec_error,vorbin,emline='S2'):\n",
    "    \n",
    "    if wave.shape[0] == spec_flux.shape[0]:\n",
    "        pass\n",
    "    else:\n",
    "        print('wavelength and spectra data must be same size!')\n",
    "    \n",
    "    if emline=='S2':\n",
    "        peak_wave = 6724\n",
    "        m_peak = np.where(np.abs(wave-peak_wave)<14)\n",
    "    elif emline=='Ha':\n",
    "        peak_wave = 6562.80\n",
    "        m_peak = np.where(np.abs(wave-peak_wave)<10)\n",
    "    elif emline=='Hb':\n",
    "        peak_wave = 4861.33\n",
    "        m_peak = np.where(np.abs(wave-peak_wave)<10)\n",
    "    elif emline=='N2a':\n",
    "        peak_wave = 6548.03\n",
    "        m_peak = np.where(np.abs(wave-peak_wave)<10)\n",
    "    elif emline=='N2b':\n",
    "        peak_wave = 6583.41\n",
    "        m_peak = np.where(np.abs(wave-peak_wave)<10)\n",
    "    elif emline=='O3a':\n",
    "        peak_wave = 4958.92\n",
    "        m_peak = np.where(np.abs(wave-peak_wave)<10)\n",
    "    elif emline=='O3b':\n",
    "        peak_wave = 5006.84\n",
    "        m_peak = np.where(np.abs(wave-peak_wave)<10)\n",
    "        \n",
    "    emline_data = spec_flux[m_peak]\n",
    "    emline_error = spec_error[m_peak]\n",
    "    indices = find_peaks(emline_data, height=10,distance=15,prominence=10)\n",
    "    peak_flux = emline_data[indices[0]]\n",
    "    peak_error = emline_error[indices[0]]\n",
    "    snr = signal/noise\n",
    "    \n",
    "    name = ['signal','noise','SNR']\n",
    "    sn = [peak_flux,peak_error,snr]\n",
    "    peak_SNR = dict(zip(name, sn))\n",
    "    \n",
    "    return peak_SNR"
   ]
  },
  {
   "cell_type": "code",
   "execution_count": 4,
   "metadata": {
    "ExecuteTime": {
     "end_time": "2021-08-20T04:17:02.018731Z",
     "start_time": "2021-08-20T04:17:02.012476Z"
    },
    "code_folding": []
   },
   "outputs": [],
   "source": [
    "#### 高斯模型\n",
    "def gaussian(x,*p):\n",
    "    model = p[0]*np.exp(-0.5*(x - p[1])**2/p[2]**2)  \n",
    "    for i in range(3,len(p),3):\n",
    "        amp = p[i]\n",
    "        mean = p[i+1]\n",
    "        sigma = p[i+2]\n",
    "        model += amp*np.exp(-0.5*(x - mean)**2/sigma**2) \n",
    "        \n",
    "    return model"
   ]
  },
  {
   "cell_type": "code",
   "execution_count": 149,
   "metadata": {
    "ExecuteTime": {
     "end_time": "2021-08-25T08:49:07.044037Z",
     "start_time": "2021-08-25T08:49:07.030373Z"
    },
    "code_folding": []
   },
   "outputs": [],
   "source": [
    "## 根据给定单高斯参数计算积分流量，流量误差，线心速度，外流宽线的W80\n",
    "def single_gauss_calculate(wave,spec_error,spec_con,*p,linetype='narrow',vmode=None):\n",
    "    #### single gauss function \n",
    "    def make_gauss(amp, mean, sigma):\n",
    "        s = -1.0 / (2 * sigma * sigma)\n",
    "        def f(x):\n",
    "            return amp* np.exp(s * (x - mean)*(x - mean))\n",
    "        return f\n",
    "    \n",
    "    amp = p[0]\n",
    "    mean = p[1]\n",
    "    sigma = p[2]\n",
    "    fwhm = 2.355*sigma\n",
    "    \n",
    "    if linetype == 'narrow':\n",
    "        ### flux & flux error\n",
    "        flux,integrate_err = integrate.quad(make_gauss(amp,mean,sigma), mean-3*fwhm, mean+3*fwhm)\n",
    "        mask = (wave>mean-3*fwhm)&(wave<mean+3*fwhm)\n",
    "        flux_err_spec = np.sqrt(np.nansum((spec_error[mask])**2))\n",
    "        flux_err = np.sqrt(integrate_err**2 + flux_err_spec**2)\n",
    "        ### equivalentwidth\n",
    "        ew = flux/np.median(spec_con)\n",
    "        ### velocity\n",
    "        if vmode == None:\n",
    "            v = np.nan\n",
    "        if vmode == 'Ha':\n",
    "            xc = 6562.8\n",
    "            v = ((mean-xc)/xc)*3*10**5\n",
    "        if vmode == 'Hb':\n",
    "            xc = 4861.3\n",
    "            v = ((mean-xc)/xc)*3*10**5\n",
    "        if vmode == 'O3a':\n",
    "            xc = 4958.92\n",
    "            v = ((mean-xc)/xc)*3*10**5\n",
    "        if vmode == 'O3b':\n",
    "            xc = 5006.84\n",
    "            v = ((mean-xc)/xc)*3*10**5\n",
    "        \n",
    "        ### output \n",
    "        name = ['flux','flux_error','velocity','equivalentwidth']\n",
    "        em_data = [flux,flux_err,v,ew]\n",
    "        emline_data = dict(zip(name,em_data))\n",
    "        return emline_data\n",
    "    \n",
    "    if linetype == 'broad':\n",
    "        ### flux & flux error\n",
    "        flux,integrate_err = integrate.quad(make_gauss(amp,mean,sigma), mean-3*fwhm, mean+1*fwhm)\n",
    "        mask = (wave>mean-3*fwhm)&(wave<mean+1*fwhm)\n",
    "        flux_err_spec = np.sqrt(np.nansum((spec_error[mask])**2))\n",
    "        flux_err = np.sqrt(integrate_err**2 + flux_err_spec**2)\n",
    "        ### equivalentwidth\n",
    "        ew = flux/np.median(spec_con)\n",
    "        ### velocity\n",
    "        if vmode == None:\n",
    "            v = np.nan\n",
    "        if vmode == 'Ha':\n",
    "            xc = 6562.8\n",
    "            v = ((mean-xc)/xc)*3*10**5\n",
    "        if vmode == 'Hb':\n",
    "            xc = 4861.3\n",
    "            v = ((mean-xc)/xc)*3*10**5\n",
    "        if vmode == 'O3a':\n",
    "            xc = 4958.92\n",
    "            v50 = ((mean-xc)/xc)*3*10**5\n",
    "            v80 = (((mean-1.09*fwhm)-xc)/xc)*3*10**5\n",
    "            v_name = ['v50','v80']\n",
    "            v_data = [v50,v80]\n",
    "            v = dict(zip(v_name,v_data))\n",
    "        if vmode == 'O3b':\n",
    "            xc = 5006.84\n",
    "            v50 = ((mean-xc)/xc)*3*10**5\n",
    "            v80 = (((mean-1.09*fwhm)-xc)/xc)*3*10**5\n",
    "            v_name = ['v50','v80']\n",
    "            v_data = [v50,v80]\n",
    "            v = dict(zip(v_name,v_data))\n",
    "        ### output \n",
    "        name = ['flux','flux_error','velocity','equivalentwidth']\n",
    "        em_data = [flux,flux_err,v,ew]\n",
    "        emline_data = dict(zip(name,em_data))\n",
    "        return emline_data   "
   ]
  },
  {
   "cell_type": "code",
   "execution_count": 74,
   "metadata": {
    "ExecuteTime": {
     "end_time": "2021-08-20T08:09:50.058456Z",
     "start_time": "2021-08-20T08:09:50.042456Z"
    },
    "code_folding": []
   },
   "outputs": [],
   "source": [
    "### 根据参数计算，速度\n",
    "def emline_fit_properties(wave,spec_error,spec_con,para,mode='Ha'):\n",
    "    \n",
    "    line_num = len(para)/3\n",
    "    p_t = np.split(para,line_num)\n",
    "    \n",
    "    flux = []\n",
    "    flux_err = []\n",
    "    v = []\n",
    "    ew = []\n",
    "\n",
    "    if mode == 'Ha':\n",
    "        for j in range(0,len(p_t)):\n",
    "            p_j = p_t[j]\n",
    "            emline_data = single_gauss_calculate(wave,spec_error,spec_con,*p_j,linetype='narrow',vmode='Ha') \n",
    "            flux.append(emline_data['flux'])\n",
    "            flux_err.append(emline_data['flux_error'])\n",
    "            v.append(emline_data['velocity'])\n",
    "            ew.append(emline_data['equivalentwidth'])\n",
    "        if line_num == 3:\n",
    "            names = ['NII[6548]','Ha[6563]','NII[6583]']\n",
    "        else:\n",
    "            names = ['NII[6548]','Ha[6563]','NII[6583]','Ha[6563]_broad']\n",
    "            \n",
    "    if mode == 'Hb':\n",
    "        for j in range(0,len(p_t)):\n",
    "            p_j = p_t[j]\n",
    "            emline_data = single_gauss_calculate(wave,spec_error,spec_con,*p_j,linetype='narrow',vmode='Hb') \n",
    "            flux.append(emline_data['flux'])\n",
    "            flux_err.append(emline_data['flux_error'])\n",
    "            v.append(emline_data['velocity'])\n",
    "            ew.append(emline_data['equivalentwidth'])\n",
    "    \n",
    "        if line_num == 1:\n",
    "            names = ['Hb[4861]']\n",
    "        else:\n",
    "            names = ['Hb[4861]','Hb[4861]_broad']\n",
    "\n",
    "    if mode == 'O3a':\n",
    "        if line_num == 1:\n",
    "            p_j = p_t[0]\n",
    "            emline_data = single_gauss_calculate(wave,spec_error,spec_con,*p_j,linetype='narrow',vmode='O3a') \n",
    "            flux.append(emline_data['flux'])\n",
    "            flux_err.append(emline_data['flux_error'])\n",
    "            v.append(emline_data['velocity'])\n",
    "            ew.append(emline_data['equivalentwidth'])\n",
    "            names = ['OIII[4959]']\n",
    "        else:\n",
    "            p_narrow = p_t[0]\n",
    "            p_broad = p_t[1]\n",
    "            narrow_data = single_gauss_calculate(wave,spec_error,spec_con,*p_narrow,linetype='narrow',vmode='O3a') \n",
    "            broad_data  = single_gauss_calculate(wave,spec_error,spec_con,*p_broad,linetype='broad',vmode='O3a') \n",
    "            flux = [narrow_data['flux'],broad_data['flux']]\n",
    "            flux_err = [narrow_data['flux_error'],broad_data['flux_error']]\n",
    "            v = [narrow_data['velocity'],broad_data['velocity']]\n",
    "            ew = [narrow_data['equivalentwidth'],broad_data['equivalentwidth']]\n",
    "            names = ['OIII[4959]','OIII[4959]_broad']\n",
    "\n",
    "    if mode == 'O3b':\n",
    "        if line_num == 1:\n",
    "            p_j = p_t[0]\n",
    "            emline_data = single_gauss_calculate(wave,spec_error,spec_con,*p_j,linetype='narrow',vmode='O3b')\n",
    "            flux.append(emline_data['flux'])\n",
    "            flux_err.append(emline_data['flux_error'])\n",
    "            v.append(emline_data['velocity'])\n",
    "            ew.append(emline_data['equivalentwidth'])\n",
    "            names = ['OIII[5007]']\n",
    "        else:\n",
    "            p_narrow = p_t[0]\n",
    "            p_broad = p_t[1]\n",
    "            narrow_data = single_gauss_calculate(wave,spec_error,spec_con,*p_narrow,linetype='narrow',vmode='O3b') \n",
    "            broad_data  = single_gauss_calculate(wave,spec_error,spec_con,*p_broad,linetype='broad',vmode='O3b')\n",
    "            flux = [narrow_data['flux'],broad_data['flux']]\n",
    "            flux_err = [narrow_data['flux_error'],broad_data['flux_error']]\n",
    "            v = [narrow_data['velocity'],broad_data['velocity']]\n",
    "            ew = [narrow_data['equivalentwidth'],broad_data['equivalentwidth']]\n",
    "            names = ['OIII[5007]','OIII[5007]_broad']\n",
    "            \n",
    "    if mode == 'S2':\n",
    "        for j in range(0,len(p_t)):\n",
    "            p_j = p_t[j]\n",
    "            emline_data = single_gauss_calculate(wave,spec_error,spec_con,*p_j,linetype='narrow',vmode='S2') \n",
    "            flux.append(emline_data['flux'])\n",
    "            flux_err.append(emline_data['flux_error'])\n",
    "            v.append(emline_data['velocity'])\n",
    "            ew.append(emline_data['equivalentwidth'])\n",
    "        names = ['SII[6717]','SII[6731]']\n",
    "        \n",
    "            \n",
    "    ######## output\n",
    "    line_flux = [names[i]+'_flux' for i in range(len(names))]\n",
    "    line_err = [names[i]+'_fluxerr' for i in range(len(names))]\n",
    "    line_v = [names[i]+'_velocity' for i in range(len(names))]\n",
    "    line_ew = [names[i]+'_EW' for i in range(len(names))]\n",
    "        \n",
    "    emline_flux = dict(zip(line_flux, flux))\n",
    "    emline_flux_err = dict(zip(line_err, flux_err))\n",
    "    emline_v = dict(zip(line_v, v))\n",
    "    emline_ew = dict(zip(line_ew, ew))\n",
    "    fit_flux = emline_flux\n",
    "    fit_flux.update(emline_flux_err)\n",
    "    fit_flux.update(emline_v)\n",
    "    fit_flux.update(emline_ew)\n",
    "    return fit_flux"
   ]
  },
  {
   "cell_type": "code",
   "execution_count": 140,
   "metadata": {
    "ExecuteTime": {
     "end_time": "2021-08-25T08:04:46.433302Z",
     "start_time": "2021-08-25T08:04:46.424079Z"
    },
    "code_folding": []
   },
   "outputs": [],
   "source": [
    "def emline_fit_status(fit_wave,fitspec_flux,fitspec_err,para,para_err,mode='Ha'):\n",
    "\n",
    "    para_error = np.sqrt(np.diag(para_err))\n",
    "    chi2 = np.sum((fitspec_flux-gaussian(fit_wave,*para))**2/fitspec_err**2)\n",
    "    reduced_chi2 = chi2/(fit_wave.shape[0] - para.shape[0])\n",
    "    line_num = len(para)/3\n",
    "    fit_para = np.split(para,line_num)\n",
    "    fit_para_err = np.split(para_error,line_num)\n",
    "    \n",
    "    if mode == 'Ha':\n",
    "        if line_num == 3:\n",
    "            names = ['NII[6548]','Ha[6563]','NII[6583]']\n",
    "        else:\n",
    "            names = ['NII[6548]','Ha[6563]','NII[6583]','Ha[6563]_broad']\n",
    "    if mode == 'Hb':\n",
    "        if line_num == 1:\n",
    "            names = ['Hb[4861]']\n",
    "        else:\n",
    "            names = ['Hb[4861]','Hb[4861]_broad']\n",
    "    if mode == 'O3a':\n",
    "        if line_num == 1:\n",
    "            names = ['OIII[4959]']\n",
    "        else:\n",
    "            names = ['OIII[4959]','OIII[4959]_broad']\n",
    "    if mode == 'O3b':\n",
    "        if line_num == 1:\n",
    "            names = ['OIII[5007]']\n",
    "        else:\n",
    "            names = ['OIII[5007]','OIII[5007]_broad']\n",
    "    if mode == 'S2':\n",
    "        names = ['SII[6717]','SII[6731]']\n",
    "        \n",
    "    line_para = [names[i]+'_para' for i in range(len(names))]\n",
    "    line_paraerr = [names[i]+'_perr' for i in range(len(names))]\n",
    "    line_chi2 = ['fit_Chi2','fit_rChi2']\n",
    "    fit_p = dict(zip(line_para, fit_para))\n",
    "    fit_perr = dict(zip(line_paraerr, fit_para_err))\n",
    "    fit_chi2 = dict(zip(line_chi2, [chi2,reduced_chi2]))\n",
    "    fit_status = fit_p\n",
    "    fit_status.update(fit_perr)\n",
    "    fit_status.update(fit_chi2)\n",
    "    \n",
    "    return fit_status"
   ]
  },
  {
   "cell_type": "code",
   "execution_count": 141,
   "metadata": {
    "ExecuteTime": {
     "end_time": "2021-08-25T08:04:47.645829Z",
     "start_time": "2021-08-25T08:04:47.639670Z"
    },
    "code_folding": [
     0
    ]
   },
   "outputs": [],
   "source": [
    "def emline_amp(wave,flux,names,window=10):\n",
    "    \n",
    "    emline_names = ['NII[6548]','Ha[6563]','NII[6583]','Hb[4861]',\n",
    "                    'OIII[4959]','OIII[5007]','SII[6717]','SII[6731]']\n",
    "    emline_wave = [6548. ,6563. ,6583. ,4861. ,4959. ,5007. ,6717. ,6731.]\n",
    "\n",
    "    Amp = []\n",
    "    for i in names:\n",
    "        idx_i = emline_names.index(i)\n",
    "        lam_i = emline_wave[idx_i]\n",
    "        mask_i = np.where(np.abs(wave-lam_i)<window)\n",
    "        emline_data = flux[mask_i]\n",
    "        indices = find_peaks(emline_data, height=10,distance=15,prominence=10)\n",
    "        peak_flux = emline_data[indices[0]]\n",
    "        Amp.append(peak_flux)\n",
    "        \n",
    "    return Amp"
   ]
  },
  {
   "cell_type": "code",
   "execution_count": 150,
   "metadata": {
    "ExecuteTime": {
     "end_time": "2021-08-25T08:49:11.265079Z",
     "start_time": "2021-08-25T08:49:11.228876Z"
    },
    "code_folding": []
   },
   "outputs": [],
   "source": [
    "def emline_fit(wave,spec_flux,spec_error,continuum,\n",
    "               plot=True,savefig=False,py=0,px=0,\n",
    "               mode='Ha',maxfev=500000):\n",
    "    \"\"\"\n",
    "    comments\n",
    "    \n",
    "    \"\"\"\n",
    "    galaxy_wave = wave\n",
    "    galaxy_flux = spec_flux\n",
    "    galaxy_err = spec_error\n",
    "    galaxy_con = continuum\n",
    "    \n",
    "    if mode == 'Ha':\n",
    "        #################    set Initial value    ############################\n",
    "        name = ['NII[6548]','Ha[6563]','NII[6583]']\n",
    "        Amp = emline_amp(galaxy_wave,galaxy_flux,name,window=10)\n",
    "        mask_Ha = ((galaxy_wave > 6530) & (galaxy_wave < 6610))\n",
    "        fit_wave = galaxy_wave[mask_Ha]\n",
    "        fit_spec = galaxy_flux[mask_Ha]\n",
    "        fit_err = galaxy_err[mask_Ha]\n",
    "        fit_con = galaxy_con[mask_Ha]\n",
    "        ################    narrow line    ############################\n",
    "        p0 = np.array([Amp[0], 6548., 1.,\n",
    "                       Amp[1], 6563., 1.,\n",
    "                       Amp[2], 6584., 1.])\n",
    "        p0_bounds = ([0,6543,0,0,6558.5,0,0,6578,0],\n",
    "                     [Amp[0],6553,2,Amp[1],6567.5,3,Amp[2],6588,2])\n",
    "        popt_n,pcov_n = curve_fit(gaussian,fit_wave,fit_spec,p0=p0,bounds=p0_bounds,\n",
    "                             sigma=fit_err,absolute_sigma=True,maxfev=maxfev)\n",
    "        fit_status_narrow = emline_fit_status(fit_wave,fit_spec,fit_err,popt_n,pcov_n,mode='Ha')\n",
    "        ###################    broad line    #############################\n",
    "        p0_b = np.array([Amp[0], 6548., 1.,\n",
    "                          Amp[1], 6563., 1.,\n",
    "                          Amp[2], 6584., 1.,\n",
    "                          Amp[1], 6563., 3.])\n",
    "        p0_b_bounds = ([0,6543,0,0,6557,0,0,6578,0,0,6557,2],\n",
    "                       [Amp[0],6553,2,Amp[1],6567,3,Amp[2],6588,2,Amp[1],6567,5])\n",
    "        popt_b,pcov_b = curve_fit(gaussian,fit_wave,fit_spec,p0=p0_b,bounds=p0_b_bounds,\n",
    "                             sigma=fit_err,absolute_sigma=True,maxfev=maxfev)\n",
    "        fit_status_broad = emline_fit_status(fit_wave,fit_spec,fit_err,popt_b,pcov_b,mode='Ha')\n",
    "        ######################    compare fit results ##########################\n",
    "        diff_chi2 = fit_status_narrow['fit_Chi2'] -  fit_status_broad['fit_Chi2']\n",
    "        if diff_chi2 < 14:\n",
    "            popt = popt_n\n",
    "            pcov = pcov_n\n",
    "            fit_status =  emline_fit_status(fit_wave,fit_spec,fit_err,popt,pcov,mode='Ha')\n",
    "            fit_flux = emline_fit_properties(galaxy_wave,galaxy_err,fit_con,popt,mode='Ha')\n",
    "        else:\n",
    "            popt = popt_b\n",
    "            pcov = pcov_b\n",
    "            fit_status =  emline_fit_status(fit_wave,fit_spec,fit_err,popt,pcov,mode='Ha')\n",
    "            fit_flux = emline_fit_properties(galaxy_wave,galaxy_err,fit_con,popt,mode='Ha')\n",
    "    \n",
    "    if mode == 'Hb':\n",
    "        #################    set Initial value    ############################\n",
    "        name = ['Hb[4861]']\n",
    "        Amp = emline_amp(galaxy_wave,galaxy_flux,name,window=10)\n",
    "        mask_Hb  = (galaxy_wave > 4830) & (galaxy_wave < 4890)\n",
    "        fit_wave = galaxy_wave[mask_Hb]\n",
    "        fit_spec = galaxy_flux[mask_Hb]\n",
    "        fit_err  = galaxy_err[mask_Hb]\n",
    "        fit_con = galaxy_con[mask_Hb]\n",
    "        ################    narrow line    ############################\n",
    "        p0 = np.array([Amp[0],4862.,1.])\n",
    "        p0_bounds = ([0,4856.,0.],\n",
    "                     [np.inf,4868.,2.])\n",
    "        popt_n,pcov_n = curve_fit(gaussian,fit_wave,fit_spec,p0=p0,bounds=p0_bounds,\n",
    "                             sigma=fit_err,absolute_sigma=True,maxfev=maxfev)\n",
    "        fit_status_narrow = emline_fit_status(fit_wave,fit_spec,fit_err,popt_n,pcov_n,mode='Hb')\n",
    "        ###################    broad line    #############################\n",
    "        p0_b = np.array([Amp[0],4862.,1.,\n",
    "                           Amp[0],4862.,3.,])\n",
    "        p0_b_bounds = ([0,4856,0,-np.inf,4856,2],\n",
    "                        [np.inf ,4868,2, np.inf,4868,5])\n",
    "        popt_b,pcov_b = curve_fit(gaussian,fit_wave,fit_spec,p0=p0_b,bounds=p0_b_bounds,\n",
    "                             sigma=fit_err,absolute_sigma=True,maxfev=maxfev)\n",
    "        fit_status_broad = emline_fit_status(fit_wave,fit_spec,fit_err,popt_b,pcov_b,mode='Hb')\n",
    "        ######################    compare fit results ##########################\n",
    "        diff_chi2 = fit_status_narrow['fit_Chi2'] -  fit_status_broad['fit_Chi2']\n",
    "        if diff_chi2 < 12:\n",
    "            popt = popt_n\n",
    "            pcov = pcov_n\n",
    "            fit_status =  emline_fit_status(fit_wave,fit_spec,fit_err,popt,pcov,mode='Hb')\n",
    "            fit_flux = emline_fit_properties(galaxy_wave,galaxy_err,fit_con,popt,mode='Hb')\n",
    "        else:\n",
    "            popt = popt_b\n",
    "            pcov = pcov_b\n",
    "            fit_status =  emline_fit_status(fit_wave,fit_spec,fit_err,popt,pcov,mode='Hb')\n",
    "            fit_flux = emline_fit_properties(galaxy_wave,galaxy_err,fit_con,popt,mode='Hb')\n",
    "    \n",
    "    if mode == 'O3':\n",
    "        #################    set Initial value    ############################\n",
    "        name = ['OIII[4959]','OIII[5007]']\n",
    "        Amp = emline_amp(galaxy_wave,galaxy_flux,name,window=10)\n",
    "        \n",
    "        mask_OIIIa = ((galaxy_wave > 4935) & (galaxy_wave < 4975))\n",
    "        mask_OIIIb = ((galaxy_wave > 4980) & (galaxy_wave < 5030))\n",
    "        fitOIIIa_wave = galaxy_wave[mask_OIIIa]\n",
    "        fitOIIIa_flux = galaxy_flux[mask_OIIIa]\n",
    "        fitOIIIa_err = galaxy_err[mask_OIIIa]\n",
    "        fitOIIIa_con = galaxy_con[mask_OIIIa]\n",
    "        fitOIIIb_wave = galaxy_wave[mask_OIIIb]\n",
    "        fitOIIIb_flux = galaxy_flux[mask_OIIIb]\n",
    "        fitOIIIb_err = galaxy_err[mask_OIIIb]\n",
    "        fitOIIIb_con = galaxy_con[mask_OIIIb]\n",
    "        \n",
    "        #################    OIII[4959]    ############################\n",
    "        ################    narrow line    ############################\n",
    "        p0_O3l_n = np.array([Amp[0],4957.,1.])\n",
    "        p0_O3l_n_bounds = ([0.,4954.,0.],\n",
    "                          [Amp[0],4960.,2.])\n",
    "        popt_O3ln,pcov_O3ln = curve_fit(gaussian,fitOIIIa_wave,fitOIIIa_flux,p0=p0_O3l_n,bounds=p0_O3l_n_bounds,\n",
    "                             sigma=fitOIIIa_err,absolute_sigma=True,maxfev=maxfev)\n",
    "        fit_status_O3ln = emline_fit_status(fitOIIIa_wave,fitOIIIa_flux,fitOIIIa_err,popt_O3ln,pcov_O3ln,mode='O3a')\n",
    "        ###################    broad line    #############################\n",
    "        p0_O3l_b = np.array([Amp[0], 4957., 1.,\n",
    "                            Amp[0], 4957., 3.])\n",
    "        p0_O3l_b_bounds = ([0,4954,0,0,4954,2],\n",
    "                          [Amp[0],4960,2,Amp[0],4960,5])\n",
    "        popt_O3lb,pcov_O3lb = curve_fit(gaussian,fitOIIIa_wave,fitOIIIa_flux,p0=p0_O3l_b,bounds=p0_O3l_b_bounds,\n",
    "                             sigma=fitOIIIa_err,absolute_sigma=True,maxfev=maxfev)\n",
    "        fit_status_O3lb = emline_fit_status(fitOIIIa_wave,fitOIIIa_flux,fitOIIIa_err,popt_O3lb,pcov_O3lb,mode='O3a')\n",
    "        \n",
    "        diff_chi2 = fit_status_O3ln['fit_Chi2'] -  fit_status_O3lb['fit_Chi2']\n",
    "        if diff_chi2 < 7:\n",
    "            popt_l = popt_O3ln\n",
    "            pcov_l = pcov_O3ln\n",
    "            fit_status_O3l =  emline_fit_status(fitOIIIa_wave,fitOIIIa_wave,fitOIIIa_err,popt_l,pcov_l,mode='O3a')\n",
    "            fit_flux_O3l = emline_fit_properties(galaxy_wave,galaxy_err,fitOIIIa_con,popt_l,mode='O3a')\n",
    "        else:\n",
    "            popt_l = popt_O3lb\n",
    "            pcov_l = pcov_O3lb\n",
    "            fit_status_O3l =  emline_fit_status(fitOIIIa_wave,fitOIIIa_wave,fitOIIIa_err,popt_l,pcov_l,mode='O3a')\n",
    "            fit_flux_O3l = emline_fit_properties(galaxy_wave,galaxy_err,fitOIIIa_con,popt_l,mode='O3a')\n",
    "        #################    OIII[5007]    #######################################\n",
    "        ################    narrow line    ############################\n",
    "        p0_O3r_n = np.array([Amp[1], 5007., 1.])\n",
    "        p0_O3r_n_bounds = ([0,5004,0],\n",
    "                           [Amp[1],5010,2])\n",
    "        popt_O3rn,pcov_O3rn = curve_fit(gaussian,fitOIIIb_wave,fitOIIIb_flux,p0=p0_O3r_n,bounds=p0_O3r_n_bounds,\n",
    "                             sigma=fitOIIIb_err,absolute_sigma=True,maxfev=maxfev)\n",
    "        fit_status_O3rn = emline_fit_status(fitOIIIb_wave,fitOIIIb_flux,fitOIIIb_err,popt_O3rn,pcov_O3rn,mode='O3b')\n",
    "        ###################    broad line    #############################\n",
    "        p0_O3r_b = np.array([Amp[1], 5007., 1.,\n",
    "                             Amp[1], 5007., 3.])\n",
    "        p0_O3r_b_bounds = ([0,5004,0,0,5004,2],\n",
    "                           [Amp[1],5010,2,Amp[1],5010,8])\n",
    "        popt_O3rb,pcov_O3rb = curve_fit(gaussian,fitOIIIb_wave,fitOIIIb_flux,p0=p0_O3r_b,bounds=p0_O3r_b_bounds,\n",
    "                             sigma=fitOIIIb_err,absolute_sigma=True,maxfev=maxfev)\n",
    "        fit_status_O3rb = emline_fit_status(fitOIIIb_wave,fitOIIIb_flux,fitOIIIb_err,popt_O3rb,pcov_O3rb,mode='O3b')\n",
    "        \n",
    "        diff_chi2 = fit_status_O3rn['fit_Chi2'] -  fit_status_O3rb['fit_Chi2']\n",
    "        if diff_chi2 < 9:\n",
    "            popt_r = popt_O3rn\n",
    "            pcov_r = pcov_O3rn\n",
    "            fit_status_O3r =  emline_fit_status(fitOIIIb_wave,fitOIIIb_flux,fitOIIIb_err,popt_r,pcov_r,mode='O3b')\n",
    "            fit_flux_O3r = emline_fit_properties(galaxy_wave,galaxy_err,fitOIIIb_con,popt_r,mode='O3b')\n",
    "        else:\n",
    "            popt_r = popt_O3rb\n",
    "            pcov_r = pcov_O3rb\n",
    "            fit_status_O3r =  emline_fit_status(fitOIIIb_wave,fitOIIIb_flux,fitOIIIb_err,popt_r,pcov_r,mode='O3b')\n",
    "            fit_flux_O3r = emline_fit_properties(galaxy_wave,galaxy_err,fitOIIIb_con,popt_r,mode='O3b')\n",
    "\n",
    "        fit_status = fit_status_O3l\n",
    "        fit_status.update(fit_status_O3r)\n",
    "        fit_flux = fit_flux_O3l\n",
    "        fit_flux.update(fit_flux_O3r)\n",
    "                \n",
    "    if mode == 'S2':\n",
    "        #################    set Initial value    ############################\n",
    "        name = ['SII[6717]','SII[6731]']\n",
    "        Amp = emline_amp(galaxy_wave,galaxy_flux,name,window=7)\n",
    "        mask_SII = ((galaxy_wave > 6700) & (galaxy_wave < 6750))\n",
    "        fit_wave = galaxy_wave[mask_SII]\n",
    "        fit_spec = galaxy_flux[mask_SII]\n",
    "        fit_err = galaxy_err[mask_SII]\n",
    "        fit_con = galaxy_con[mask_SII]\n",
    "        ########    start fitting \n",
    "        p0 = np.array([Amp[0], 6717., 1.,\n",
    "                       Amp[1], 6731., 1.,])\n",
    "        p0_bounds = ([0,6712,0,0,6726,0],\n",
    "                     [np.inf,6722,2,np.inf,6736,2])\n",
    "        popt,pcov = curve_fit(gaussian,fit_wave,fit_spec,p0=p0,bounds=p0_bounds,\n",
    "                              sigma=fit_err,absolute_sigma=True,maxfev=maxfev)\n",
    "        #########    fit results \n",
    "        fit_status =  emline_fit_status(fit_wave,fit_spec,fit_err,popt,pcov,mode='S2')\n",
    "        fit_flux = emline_fit_properties(galaxy_wave,galaxy_err,fit_con,popt,mode='S2')\n",
    "    \n",
    "    if plot:\n",
    "        fig = plt.figure(figsize=(12,7))\n",
    "        ax1 = fig.add_subplot(111)\n",
    "        \n",
    "        if mode == 'Ha':\n",
    "            ax1.plot(fit_wave,fit_spec*10**(-2),color='k', lw=0.7, alpha=1,label='observed')\n",
    "            ax1.plot(fit_wave,gaussian(fit_wave,*popt)*10**(-2),color='darkorange',lw=2,label='best-fit')\n",
    "            fake_x = np.arange(fit_wave[0],fit_wave[-1],0.01)\n",
    "            ax1.plot(fake_x,gaussian(fake_x,*popt[0:9])*10**(-2),color='C0',label='narrow-part')\n",
    "            try:\n",
    "                ax1.plot(fake_x,gaussian(fake_x,*popt[9:12])*10**(-2),label='broad-part',color='magenta')\n",
    "            except:\n",
    "                pass\n",
    "        if mode == 'Hb':\n",
    "            ax1.plot(fit_wave,fit_spec*10**(-2),color='k', lw=0.7, alpha=1,label='observed')\n",
    "            ax1.plot(fit_wave,gaussian(fit_wave,*popt)*10**(-2),color='darkorange',lw=2,label='best-fit')\n",
    "            fake_x = np.arange(fit_wave[0],fit_wave[-1],0.01)\n",
    "            ax1.plot(fake_x,gaussian(fake_x,*popt[0:3])*10**(-2),color='C0',label='narrow-part')\n",
    "            try:\n",
    "                ax1.plot(fake_x,gaussian(fake_x,*popt[3,6])*10**(-2),label='broad-part',color='magenta')\n",
    "            except:\n",
    "                pass\n",
    "        if mode == 'O3':\n",
    "            mplot_O3 = ((galaxy_wave > 4935) & (galaxy_wave < 5030))\n",
    "            fake_OIIIx = np.arange(4935,5030,0.01)\n",
    "            ax1.plot(galaxy_wave[mplot_O3],galaxy_flux[mplot_O3]*10**(-2),color='k', lw=0.6, alpha=1,label='observed')\n",
    "            ax1.plot(galaxy_wave[mplot_O3],gaussian(galaxy_wave[mplot_O3],*popt_l)*10**(-2),color='darkorange',label='best-fit')\n",
    "            ax1.plot(galaxy_wave[mplot_O3],gaussian(galaxy_wave[mplot_O3],*popt_r)*10**(-2),color='darkorange')\n",
    "            ax1.plot(fake_OIIIx,gaussian(fake_OIIIx,*popt_r[0:3])*10**(-2),'C0',label='narrow-part')\n",
    "            ax1.plot(fake_OIIIx,gaussian(fake_OIIIx,*popt_l[0:3])*10**(-2),'C0')\n",
    "\n",
    "            try:\n",
    "                ax1.plot(fake_OIIIx,gaussian(fake_OIIIx,*popt_r[3:6])*10**(-2),'magenta',label='broad-part')\n",
    "                ax1.plot(fake_OIIIx,gaussian(fake_OIIIx,*popt_l[3:6])*10**(-2),'magenta')\n",
    "            except:\n",
    "                pass\n",
    "        \n",
    "        if mode == 'S2':\n",
    "            ax1.plot(fit_wave,fit_spec*10**(-2),color='k', lw=0.7, alpha=1,label='observed')\n",
    "            ax1.plot(fit_wave,gaussian(fit_wave,*popt)*10**(-2),color='darkorange',lw=2,label='best-fit')\n",
    "            fake_x = np.arange(fit_wave[0],fit_wave[-1],0.01)\n",
    "            ax1.plot(fake_x,gaussian(fake_x,*popt)*10**(-2),color='C0',label='narrow-part')\n",
    "        \n",
    "        ax1.set_xlabel('Rest Wavelength',fontsize=20)\n",
    "        ax1.set_ylabel(r'${\\rm F_\\lambda \\ [10^{-18}erg/s/cm^2/\\AA]}$',fontsize=15)\n",
    "        ax1.set_title('Spaxel '+str(py)+'-'+str(px)+' '+str(mode)+' fit results',fontsize=15)\n",
    "        plt.tick_params(direction='in', labelsize = 15, length = 5, width=1.0)\n",
    "        plt.legend(fontsize = 15.0,markerscale = 2)\n",
    "        \n",
    "        if savefig:\n",
    "            plt.savefig('Spaxel-'+str(py)+'-'+str(px)+'-'+str(mode)+'_fit.pdf',dpi = 600)\n",
    "        \n",
    "    return fit_status,fit_flux "
   ]
  },
  {
   "cell_type": "code",
   "execution_count": 151,
   "metadata": {
    "ExecuteTime": {
     "end_time": "2021-08-25T08:49:12.622201Z",
     "start_time": "2021-08-25T08:49:12.427002Z"
    }
   },
   "outputs": [
    {
     "data": {
      "text/plain": [
       "({'NII[6548]_para': array([7.72455764e+01, 6.54932406e+03, 2.00000000e+00]),\n",
       "  'Ha[6563]_para': array([2.24391395e+02, 6.56364018e+03, 1.53821029e+00]),\n",
       "  'NII[6583]_para': array([1.57130189e+02, 6.58421163e+03, 2.00000000e+00]),\n",
       "  'Ha[6563]_broad_para': array([2.71719642e+02, 6.56320262e+03, 5.00000000e+00]),\n",
       "  'NII[6548]_perr': array([6.05690462, 0.18472861, 0.18665301]),\n",
       "  'Ha[6563]_perr': array([17.75495588,  0.09084477,  0.13168978]),\n",
       "  'NII[6583]_perr': array([6.47882466, 0.0828344 , 0.08050704]),\n",
       "  'Ha[6563]_broad_perr': array([16.20074975,  0.10751079,  0.17483826]),\n",
       "  'fit_Chi2': 287.2306239524442,\n",
       "  'fit_rChi2': 5.129118284865075},\n",
       " {'NII[6548]_flux': 387.25189154637303,\n",
       "  'Ha[6563]_flux': 865.1907061766658,\n",
       "  'NII[6583]_flux': 787.7339477271928,\n",
       "  'Ha[6563]_broad_flux': 3405.50068806895,\n",
       "  'NII[6548]_fluxerr': 44.86234785268903,\n",
       "  'Ha[6563]_fluxerr': 46.949047277536174,\n",
       "  'NII[6583]_fluxerr': 38.01197548681918,\n",
       "  'Ha[6563]_broad_fluxerr': 68.33467203240271,\n",
       "  'NII[6548]_velocity': -616.0149697462945,\n",
       "  'Ha[6563]_velocity': 38.40657372828418,\n",
       "  'NII[6583]_velocity': 978.7728044320237,\n",
       "  'Ha[6563]_broad_velocity': 18.404675689528975,\n",
       "  'NII[6548]_EW': 4.0039762470322255,\n",
       "  'Ha[6563]_EW': 8.945606496203705,\n",
       "  'NII[6583]_EW': 8.144745279579631,\n",
       "  'Ha[6563]_broad_EW': 35.21104521873493})"
      ]
     },
     "execution_count": 151,
     "metadata": {},
     "output_type": "execute_result"
    },
    {
     "data": {
      "image/png": "[encoded data removed]",
      "text/plain": [
       "<Figure size 864x504 with 1 Axes>"
      ]
     },
     "metadata": {
      "needs_background": "light"
     },
     "output_type": "display_data"
    }
   ],
   "source": [
    "emline_fit(pp_wave,spec_flux_Ha,spec_err_Ha,spec_con_Ha,\n",
    "            plot=True,savefig=False,mode='Ha',maxfev=500000)"
   ]
  },
  {
   "cell_type": "code",
   "execution_count": 147,
   "metadata": {
    "ExecuteTime": {
     "end_time": "2021-08-25T08:43:51.271518Z",
     "start_time": "2021-08-25T08:43:51.265939Z"
    }
   },
   "outputs": [
    {
     "data": {
      "text/plain": [
       "{'NII[6548]_EW': 4.0039762470322255,\n",
       " 'Ha[6563]_EW': 8.945606496203705,\n",
       " 'NII[6583]_EW': 8.144745279579631,\n",
       " 'Ha[6563]_broad_EW': 35.21104521873493}"
      ]
     },
     "execution_count": 147,
     "metadata": {},
     "output_type": "execute_result"
    }
   ],
   "source": [
    "EW = dict((key, value) for key, value in fit_flux.items() if 'EW' in key)\n",
    "EW"
   ]
  },
  {
   "cell_type": "code",
   "execution_count": 138,
   "metadata": {
    "ExecuteTime": {
     "end_time": "2021-08-25T08:04:11.135379Z",
     "start_time": "2021-08-25T08:04:11.105133Z"
    }
   },
   "outputs": [
    {
     "data": {
      "text/plain": [
       "(['OIII[5007]'],\n",
       " {'OIII[5007]_para': array([2.96862596e+02, 5.00768138e+03, 1.24398075e+00]),\n",
       "  'OIII[5007]_broad_para': array([1.22498021e+02, 5.00579970e+03, 3.02515192e+00]),\n",
       "  'OIII[5007]_perr': array([27.21602506,  0.09275923,  0.11662512]),\n",
       "  'OIII[5007]_broad_perr': array([22.83543758,  0.47039255,  0.25218536]),\n",
       "  'fit_Chi2': 799.5842323695354,\n",
       "  'fit_rChi2': 4.25310761898689},\n",
       " {'OIII[5007]_flux': 925.6761532203952,\n",
       "  'OIII[5007]_broad_flux': 920.291265784264,\n",
       "  'OIII[5007]_fluxerr': 53.2845117530855,\n",
       "  'OIII[5007]_broad_fluxerr': 59.73528706811504,\n",
       "  'OIII[5007]_velocity': 50.413633256213636,\n",
       "  'OIII[5007]_broad_velocity': {'v50': -62.3327857153399,\n",
       "   'v80': -527.621094595324},\n",
       "  'OIII[5007]_EW': 10.29878803573211,\n",
       "  'OIII[5007]_broad_EW': 10.238877435131615})"
      ]
     },
     "execution_count": 138,
     "metadata": {},
     "output_type": "execute_result"
    }
   ],
   "source": [
    "sigle_line_fit(pp_wave,spec_flux_Ha,spec_err_Ha,spec_con_Ha, maxfev=10000, mode='O3b')"
   ]
  },
  {
   "cell_type": "markdown",
   "metadata": {},
   "source": [
    "# TEST"
   ]
  },
  {
   "cell_type": "code",
   "execution_count": 4,
   "metadata": {
    "ExecuteTime": {
     "end_time": "2021-08-16T09:32:27.447332Z",
     "start_time": "2021-08-16T09:32:26.922030Z"
    }
   },
   "outputs": [
    {
     "name": "stderr",
     "output_type": "stream",
     "text": [
      "WARNING: FITSFixedWarning: 'unitfix' made the change 'Changed units:\n",
      "  'angstrom' -> 'Angstrom'. [astropy.wcs.wcs]\n"
     ]
    }
   ],
   "source": [
    "from pkg.MUSE_data_reduce import MUSE\n",
    "test = MUSE.MUSE(sdssj0228,z=0.072)"
   ]
  },
  {
   "cell_type": "code",
   "execution_count": null,
   "metadata": {},
   "outputs": [],
   "source": []
  }
 ],
 "metadata": {
  "kernelspec": {
   "display_name": "Python 3",
   "language": "python",
   "name": "python3"
  },
  "language_info": {
   "codemirror_mode": {
    "name": "ipython",
    "version": 3
   },
   "file_extension": ".py",
   "mimetype": "text/x-python",
   "name": "python",
   "nbconvert_exporter": "python",
   "pygments_lexer": "ipython3",
   "version": "3.8.3"
  },
  "toc": {
   "base_numbering": 1,
   "nav_menu": {},
   "number_sections": true,
   "sideBar": true,
   "skip_h1_title": false,
   "title_cell": "Table of Contents",
   "title_sidebar": "Contents",
   "toc_cell": false,
   "toc_position": {},
   "toc_section_display": true,
   "toc_window_display": false
  },
  "varInspector": {
   "cols": {
    "lenName": 16,
    "lenType": 16,
    "lenVar": 40
   },
   "kernels_config": {
    "python": {
     "delete_cmd_postfix": "",
     "delete_cmd_prefix": "del ",
     "library": "var_list.py",
     "varRefreshCmd": "print(var_dic_list())"
    },
    "r": {
     "delete_cmd_postfix": ") ",
     "delete_cmd_prefix": "rm(",
     "library": "var_list.r",
     "varRefreshCmd": "cat(var_dic_list()) "
    }
   },
   "types_to_exclude": [
    "module",
    "function",
    "builtin_function_or_method",
    "instance",
    "_Feature"
   ],
   "window_display": false
  }
 },
 "nbformat": 4,
 "nbformat_minor": 4
}
